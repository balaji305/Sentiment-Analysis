{
  "cells": [
    {
      "cell_type": "markdown",
      "metadata": {
        "id": "view-in-github",
        "colab_type": "text"
      },
      "source": [
        "<a href=\"https://colab.research.google.com/github/balaji305/Sentiment-Analysis/blob/main/reddit_data_sentimental_analysis.ipynb\" target=\"_parent\"><img src=\"https://colab.research.google.com/assets/colab-badge.svg\" alt=\"Open In Colab\"/></a>"
      ]
    },
    {
      "cell_type": "code",
      "execution_count": 1,
      "metadata": {
        "execution": {
          "iopub.execute_input": "2021-09-15T18:11:22.980787Z",
          "iopub.status.busy": "2021-09-15T18:11:22.980468Z",
          "iopub.status.idle": "2021-09-15T18:11:23.790553Z",
          "shell.execute_reply": "2021-09-15T18:11:23.789789Z",
          "shell.execute_reply.started": "2021-09-15T18:11:22.980708Z"
        },
        "id": "z1Xewa96cf4W"
      },
      "outputs": [],
      "source": [
        "import pandas as pd\n",
        "import numpy as np\n",
        "import seaborn as sns\n",
        "import matplotlib.pyplot as plt"
      ]
    },
    {
      "cell_type": "code",
      "execution_count": 2,
      "metadata": {
        "execution": {
          "iopub.execute_input": "2021-09-15T18:11:25.380839Z",
          "iopub.status.busy": "2021-09-15T18:11:25.380571Z",
          "iopub.status.idle": "2021-09-15T18:11:29.487861Z",
          "shell.execute_reply": "2021-09-15T18:11:29.487147Z",
          "shell.execute_reply.started": "2021-09-15T18:11:25.380811Z"
        },
        "id": "4Ebe1gpVcf4e"
      },
      "outputs": [],
      "source": [
        "import tensorflow\n",
        "from tensorflow.keras.models import Sequential \n",
        "from tensorflow.keras.preprocessing.text import Tokenizer\n",
        "from tensorflow.keras.preprocessing.sequence import pad_sequences\n",
        "from tensorflow.keras.layers import Embedding,Bidirectional,LSTM,Dense,Dropout\n",
        "from tensorflow.keras.utils import to_categorical"
      ]
    },
    {
      "cell_type": "code",
      "execution_count": 3,
      "metadata": {
        "colab": {
          "base_uri": "https://localhost:8080/",
          "height": 206
        },
        "execution": {
          "iopub.execute_input": "2021-09-15T18:11:29.489611Z",
          "iopub.status.busy": "2021-09-15T18:11:29.489382Z",
          "iopub.status.idle": "2021-09-15T18:11:29.746448Z",
          "shell.execute_reply": "2021-09-15T18:11:29.745803Z",
          "shell.execute_reply.started": "2021-09-15T18:11:29.489581Z"
        },
        "id": "E0vhdnNwcf4i",
        "outputId": "0ce05d53-fc7b-4c4b-e289-ec724877852b"
      },
      "outputs": [
        {
          "output_type": "execute_result",
          "data": {
            "text/plain": [
              "                                       clean_comment  category\n",
              "0   family mormon have never tried explain them t...         1\n",
              "1  buddhism has very much lot compatible with chr...         1\n",
              "2  seriously don say thing first all they won get...        -1\n",
              "3  what you have learned yours and only yours wha...         0\n",
              "4  for your own benefit you may want read living ...         1"
            ],
            "text/html": [
              "\n",
              "  <div id=\"df-1f4cf9fe-f005-4e0d-8641-b69a78efe32e\">\n",
              "    <div class=\"colab-df-container\">\n",
              "      <div>\n",
              "<style scoped>\n",
              "    .dataframe tbody tr th:only-of-type {\n",
              "        vertical-align: middle;\n",
              "    }\n",
              "\n",
              "    .dataframe tbody tr th {\n",
              "        vertical-align: top;\n",
              "    }\n",
              "\n",
              "    .dataframe thead th {\n",
              "        text-align: right;\n",
              "    }\n",
              "</style>\n",
              "<table border=\"1\" class=\"dataframe\">\n",
              "  <thead>\n",
              "    <tr style=\"text-align: right;\">\n",
              "      <th></th>\n",
              "      <th>clean_comment</th>\n",
              "      <th>category</th>\n",
              "    </tr>\n",
              "  </thead>\n",
              "  <tbody>\n",
              "    <tr>\n",
              "      <th>0</th>\n",
              "      <td>family mormon have never tried explain them t...</td>\n",
              "      <td>1</td>\n",
              "    </tr>\n",
              "    <tr>\n",
              "      <th>1</th>\n",
              "      <td>buddhism has very much lot compatible with chr...</td>\n",
              "      <td>1</td>\n",
              "    </tr>\n",
              "    <tr>\n",
              "      <th>2</th>\n",
              "      <td>seriously don say thing first all they won get...</td>\n",
              "      <td>-1</td>\n",
              "    </tr>\n",
              "    <tr>\n",
              "      <th>3</th>\n",
              "      <td>what you have learned yours and only yours wha...</td>\n",
              "      <td>0</td>\n",
              "    </tr>\n",
              "    <tr>\n",
              "      <th>4</th>\n",
              "      <td>for your own benefit you may want read living ...</td>\n",
              "      <td>1</td>\n",
              "    </tr>\n",
              "  </tbody>\n",
              "</table>\n",
              "</div>\n",
              "      <button class=\"colab-df-convert\" onclick=\"convertToInteractive('df-1f4cf9fe-f005-4e0d-8641-b69a78efe32e')\"\n",
              "              title=\"Convert this dataframe to an interactive table.\"\n",
              "              style=\"display:none;\">\n",
              "        \n",
              "  <svg xmlns=\"http://www.w3.org/2000/svg\" height=\"24px\"viewBox=\"0 0 24 24\"\n",
              "       width=\"24px\">\n",
              "    <path d=\"M0 0h24v24H0V0z\" fill=\"none\"/>\n",
              "    <path d=\"M18.56 5.44l.94 2.06.94-2.06 2.06-.94-2.06-.94-.94-2.06-.94 2.06-2.06.94zm-11 1L8.5 8.5l.94-2.06 2.06-.94-2.06-.94L8.5 2.5l-.94 2.06-2.06.94zm10 10l.94 2.06.94-2.06 2.06-.94-2.06-.94-.94-2.06-.94 2.06-2.06.94z\"/><path d=\"M17.41 7.96l-1.37-1.37c-.4-.4-.92-.59-1.43-.59-.52 0-1.04.2-1.43.59L10.3 9.45l-7.72 7.72c-.78.78-.78 2.05 0 2.83L4 21.41c.39.39.9.59 1.41.59.51 0 1.02-.2 1.41-.59l7.78-7.78 2.81-2.81c.8-.78.8-2.07 0-2.86zM5.41 20L4 18.59l7.72-7.72 1.47 1.35L5.41 20z\"/>\n",
              "  </svg>\n",
              "      </button>\n",
              "      \n",
              "  <style>\n",
              "    .colab-df-container {\n",
              "      display:flex;\n",
              "      flex-wrap:wrap;\n",
              "      gap: 12px;\n",
              "    }\n",
              "\n",
              "    .colab-df-convert {\n",
              "      background-color: #E8F0FE;\n",
              "      border: none;\n",
              "      border-radius: 50%;\n",
              "      cursor: pointer;\n",
              "      display: none;\n",
              "      fill: #1967D2;\n",
              "      height: 32px;\n",
              "      padding: 0 0 0 0;\n",
              "      width: 32px;\n",
              "    }\n",
              "\n",
              "    .colab-df-convert:hover {\n",
              "      background-color: #E2EBFA;\n",
              "      box-shadow: 0px 1px 2px rgba(60, 64, 67, 0.3), 0px 1px 3px 1px rgba(60, 64, 67, 0.15);\n",
              "      fill: #174EA6;\n",
              "    }\n",
              "\n",
              "    [theme=dark] .colab-df-convert {\n",
              "      background-color: #3B4455;\n",
              "      fill: #D2E3FC;\n",
              "    }\n",
              "\n",
              "    [theme=dark] .colab-df-convert:hover {\n",
              "      background-color: #434B5C;\n",
              "      box-shadow: 0px 1px 3px 1px rgba(0, 0, 0, 0.15);\n",
              "      filter: drop-shadow(0px 1px 2px rgba(0, 0, 0, 0.3));\n",
              "      fill: #FFFFFF;\n",
              "    }\n",
              "  </style>\n",
              "\n",
              "      <script>\n",
              "        const buttonEl =\n",
              "          document.querySelector('#df-1f4cf9fe-f005-4e0d-8641-b69a78efe32e button.colab-df-convert');\n",
              "        buttonEl.style.display =\n",
              "          google.colab.kernel.accessAllowed ? 'block' : 'none';\n",
              "\n",
              "        async function convertToInteractive(key) {\n",
              "          const element = document.querySelector('#df-1f4cf9fe-f005-4e0d-8641-b69a78efe32e');\n",
              "          const dataTable =\n",
              "            await google.colab.kernel.invokeFunction('convertToInteractive',\n",
              "                                                     [key], {});\n",
              "          if (!dataTable) return;\n",
              "\n",
              "          const docLinkHtml = 'Like what you see? Visit the ' +\n",
              "            '<a target=\"_blank\" href=https://colab.research.google.com/notebooks/data_table.ipynb>data table notebook</a>'\n",
              "            + ' to learn more about interactive tables.';\n",
              "          element.innerHTML = '';\n",
              "          dataTable['output_type'] = 'display_data';\n",
              "          await google.colab.output.renderOutput(dataTable, element);\n",
              "          const docLink = document.createElement('div');\n",
              "          docLink.innerHTML = docLinkHtml;\n",
              "          element.appendChild(docLink);\n",
              "        }\n",
              "      </script>\n",
              "    </div>\n",
              "  </div>\n",
              "  "
            ]
          },
          "metadata": {},
          "execution_count": 3
        }
      ],
      "source": [
        "df=pd.read_csv(\"https://raw.githubusercontent.com/balaji305/Sentiment-Analysis/main/Reddit_Data.csv\")\n",
        "df.head(5)"
      ]
    },
    {
      "cell_type": "markdown",
      "metadata": {
        "id": "jTzg0lDfcf4n"
      },
      "source": [
        "# Exploratory Data Analysis"
      ]
    },
    {
      "cell_type": "code",
      "execution_count": 4,
      "metadata": {
        "colab": {
          "base_uri": "https://localhost:8080/"
        },
        "execution": {
          "iopub.execute_input": "2021-09-15T18:11:52.114873Z",
          "iopub.status.busy": "2021-09-15T18:11:52.114599Z",
          "iopub.status.idle": "2021-09-15T18:11:52.131796Z",
          "shell.execute_reply": "2021-09-15T18:11:52.131153Z",
          "shell.execute_reply.started": "2021-09-15T18:11:52.114843Z"
        },
        "id": "0Ih3jkR-cf4r",
        "outputId": "aaa3d45d-f168-4f90-ca13-f1dd26d0e8f3"
      },
      "outputs": [
        {
          "output_type": "stream",
          "name": "stdout",
          "text": [
            "[8277, 13142, 15830]\n"
          ]
        }
      ],
      "source": [
        "dist=list(df.category)\n",
        "pp=[0,0,0]\n",
        "for i in dist:\n",
        "    if i==-1:\n",
        "        pp[0]+=1\n",
        "    elif i==0:\n",
        "        pp[1]+=1\n",
        "    else:\n",
        "        pp[2]+=1\n",
        "print(pp)\n",
        "        \n"
      ]
    },
    {
      "cell_type": "code",
      "execution_count": 5,
      "metadata": {
        "colab": {
          "base_uri": "https://localhost:8080/",
          "height": 265
        },
        "execution": {
          "iopub.execute_input": "2021-09-15T18:11:55.239950Z",
          "iopub.status.busy": "2021-09-15T18:11:55.239673Z",
          "iopub.status.idle": "2021-09-15T18:11:55.430048Z",
          "shell.execute_reply": "2021-09-15T18:11:55.429380Z",
          "shell.execute_reply.started": "2021-09-15T18:11:55.239905Z"
        },
        "id": "__C_SeNdcf4v",
        "outputId": "6d6383a8-8894-427b-cf26-0aa76f0d3146"
      },
      "outputs": [
        {
          "output_type": "display_data",
          "data": {
            "text/plain": [
              "<Figure size 432x288 with 1 Axes>"
            ],
            "image/png": "[encoded data removed]"
          },
          "metadata": {
            "needs_background": "light"
          }
        }
      ],
      "source": [
        "labels=['Negative','Neutral','Positive']\n",
        "sns.barplot(x=labels,y=pp)\n",
        "plt.show()"
      ]
    },
    {
      "cell_type": "code",
      "execution_count": 6,
      "metadata": {
        "execution": {
          "iopub.execute_input": "2021-09-15T18:11:58.234653Z",
          "iopub.status.busy": "2021-09-15T18:11:58.234099Z",
          "iopub.status.idle": "2021-09-15T18:11:58.261544Z",
          "shell.execute_reply": "2021-09-15T18:11:58.260744Z",
          "shell.execute_reply.started": "2021-09-15T18:11:58.234615Z"
        },
        "id": "AJD2qfTgcf4y"
      },
      "outputs": [],
      "source": [
        "comment=list(df.clean_comment.astype(str))\n",
        "sentiment=list(df.category)\n",
        "reddit_dict=dict(zip(comment,sentiment))"
      ]
    },
    {
      "cell_type": "code",
      "execution_count": 7,
      "metadata": {
        "colab": {
          "base_uri": "https://localhost:8080/"
        },
        "execution": {
          "iopub.execute_input": "2021-09-15T18:11:59.793784Z",
          "iopub.status.busy": "2021-09-15T18:11:59.792969Z",
          "iopub.status.idle": "2021-09-15T18:11:59.805609Z",
          "shell.execute_reply": "2021-09-15T18:11:59.804765Z",
          "shell.execute_reply.started": "2021-09-15T18:11:59.793747Z"
        },
        "id": "lwI9Kkafcf40",
        "outputId": "29f9221e-9e6e-40a1-e744-265370ffa4aa"
      },
      "outputs": [
        {
          "output_type": "stream",
          "name": "stdout",
          "text": [
            "[(' family mormon have never tried explain them they still stare puzzled from time time like some kind strange creature nonetheless they have come admire for the patience calmness equanimity acceptance and compassion have developed all the things buddhism teaches ', 1), ('buddhism has very much lot compatible with christianity especially considering that sin and suffering are almost the same thing suffering caused wanting things shouldn want going about getting things the wrong way christian this would mean wanting things that don coincide with god will and wanting things that coincide but without the aid jesus buddhism could also seen proof god all mighty will and omnipotence certainly christians are lucky have one such christ there side but what about everyone else well many christians believe god grace salvation and buddhism god way showing grace upon others would also help study the things jesus said and see how buddha has made similar claims such rich man getting into heaven joke basically advocating that should rid ourselves material possessions fact distinctly remembered jesus making someone cry because that someone asked what achieve salvation and jesus replied with live like buddhist very very roughly translated also point out that buddha rarely spoke anything about god theory personally because knew well enough leave that jesus and mohamed who came later just remember conflict difference opinion but education can fun involving and enlightening easier teach something than prove right like intelligent design ', 1), ('seriously don say thing first all they won get its too complex explain normal people anyway and they are dogmatic then doesn matter what you say see mechante post and for any reason you decide later life move from buddhism and that doesn suit you identity though you still get keep all the wisdom then your family will treat you like you went through weird hippy phase for while there didncha and you never hear the end pro tip don put one these your wall jpg ', -1), ('what you have learned yours and only yours what you want teach different focus the goal not the wrapping paper buddhism can passed others without word about the buddha ', 0), ('for your own benefit you may want read living buddha living christ thich nhat hanh you might find any subsequent discussions with your loved ones easier you are able articulate some the parallels that exist between buddhism and christianity don surprised they react negatively for having lost you treat them with compassion and deserved understanding although they may indeed display signs being hurt your new path properly sharing with them way that may alleviate their fear something they may perceive wrong the very least alien their beliefs may help allowing them the long run accept although not necessarily agree with your decision regardless where they end you have make your own way ', 1)]\n"
          ]
        }
      ],
      "source": [
        "print(list(reddit_dict.items())[:5])"
      ]
    },
    {
      "cell_type": "code",
      "execution_count": 8,
      "metadata": {
        "execution": {
          "iopub.execute_input": "2021-09-15T18:12:02.702743Z",
          "iopub.status.busy": "2021-09-15T18:12:02.702197Z",
          "iopub.status.idle": "2021-09-15T18:12:02.720346Z",
          "shell.execute_reply": "2021-09-15T18:12:02.719612Z",
          "shell.execute_reply.started": "2021-09-15T18:12:02.702706Z"
        },
        "id": "htLRtj2Ucf44"
      },
      "outputs": [],
      "source": [
        "Neg_list=[]\n",
        "Pos_list=[]\n",
        "Neutral_list=[]\n",
        "for i,j in reddit_dict.items():\n",
        "    if j==-1:\n",
        "        Neg_list.append(i)\n",
        "    elif j==0:\n",
        "        Neutral_list.append(i)\n",
        "    else:\n",
        "        Pos_list.append(i)    "
      ]
    },
    {
      "cell_type": "code",
      "execution_count": 9,
      "metadata": {
        "colab": {
          "base_uri": "https://localhost:8080/"
        },
        "execution": {
          "iopub.execute_input": "2021-09-15T18:12:05.571504Z",
          "iopub.status.busy": "2021-09-15T18:12:05.571232Z",
          "iopub.status.idle": "2021-09-15T18:12:05.579633Z",
          "shell.execute_reply": "2021-09-15T18:12:05.578941Z",
          "shell.execute_reply.started": "2021-09-15T18:12:05.571474Z"
        },
        "id": "LOXLOlVYcf49",
        "outputId": "163b8572-103e-469b-e8f2-f25e02343143"
      },
      "outputs": [
        {
          "output_type": "stream",
          "name": "stdout",
          "text": [
            "['seriously don say thing first all they won get its too complex explain normal people anyway and they are dogmatic then doesn matter what you say see mechante post and for any reason you decide later life move from buddhism and that doesn suit you identity though you still get keep all the wisdom then your family will treat you like you went through weird hippy phase for while there didncha and you never hear the end pro tip don put one these your wall jpg ', 'you should all sit down together and watch the simpsons episode where lisa becomes buddhist simpsons season episode she little faith then discuss '] \n",
            " ['what you have learned yours and only yours what you want teach different focus the goal not the wrapping paper buddhism can passed others without word about the buddha ', 'jesus was zen meets jew '] \n",
            " [' family mormon have never tried explain them they still stare puzzled from time time like some kind strange creature nonetheless they have come admire for the patience calmness equanimity acceptance and compassion have developed all the things buddhism teaches ', 'buddhism has very much lot compatible with christianity especially considering that sin and suffering are almost the same thing suffering caused wanting things shouldn want going about getting things the wrong way christian this would mean wanting things that don coincide with god will and wanting things that coincide but without the aid jesus buddhism could also seen proof god all mighty will and omnipotence certainly christians are lucky have one such christ there side but what about everyone else well many christians believe god grace salvation and buddhism god way showing grace upon others would also help study the things jesus said and see how buddha has made similar claims such rich man getting into heaven joke basically advocating that should rid ourselves material possessions fact distinctly remembered jesus making someone cry because that someone asked what achieve salvation and jesus replied with live like buddhist very very roughly translated also point out that buddha rarely spoke anything about god theory personally because knew well enough leave that jesus and mohamed who came later just remember conflict difference opinion but education can fun involving and enlightening easier teach something than prove right like intelligent design ']\n"
          ]
        }
      ],
      "source": [
        "print(Neg_list[:2],'\\n',Neutral_list[:2],'\\n',Pos_list[:2])"
      ]
    },
    {
      "cell_type": "code",
      "execution_count": 10,
      "metadata": {
        "execution": {
          "iopub.execute_input": "2021-09-15T18:12:12.237856Z",
          "iopub.status.busy": "2021-09-15T18:12:12.237599Z",
          "iopub.status.idle": "2021-09-15T18:12:12.246829Z",
          "shell.execute_reply": "2021-09-15T18:12:12.245736Z",
          "shell.execute_reply.started": "2021-09-15T18:12:12.237828Z"
        },
        "id": "uu1jlYYJcf5A"
      },
      "outputs": [],
      "source": [
        "pos_len=[]\n",
        "for i in Pos_list:\n",
        "    pos_len.append(len(i))"
      ]
    },
    {
      "cell_type": "code",
      "execution_count": 11,
      "metadata": {
        "execution": {
          "iopub.execute_input": "2021-09-15T18:12:14.365599Z",
          "iopub.status.busy": "2021-09-15T18:12:14.364788Z",
          "iopub.status.idle": "2021-09-15T18:12:14.372733Z",
          "shell.execute_reply": "2021-09-15T18:12:14.372015Z",
          "shell.execute_reply.started": "2021-09-15T18:12:14.365552Z"
        },
        "id": "_NgqCkDscf5B"
      },
      "outputs": [],
      "source": [
        "neg_len=[]\n",
        "for i in Neg_list:\n",
        "    neg_len.append(len(i))"
      ]
    },
    {
      "cell_type": "code",
      "execution_count": 12,
      "metadata": {
        "execution": {
          "iopub.execute_input": "2021-09-15T18:12:15.708988Z",
          "iopub.status.busy": "2021-09-15T18:12:15.708692Z",
          "iopub.status.idle": "2021-09-15T18:12:15.718346Z",
          "shell.execute_reply": "2021-09-15T18:12:15.717377Z",
          "shell.execute_reply.started": "2021-09-15T18:12:15.708957Z"
        },
        "id": "fZCQe0FMcf5C"
      },
      "outputs": [],
      "source": [
        "Neutral_len=[]\n",
        "for i in Neutral_list:\n",
        "    Neutral_len.append(len(i))"
      ]
    },
    {
      "cell_type": "code",
      "execution_count": 13,
      "metadata": {
        "colab": {
          "base_uri": "https://localhost:8080/",
          "height": 499
        },
        "execution": {
          "iopub.execute_input": "2021-09-15T18:12:17.986937Z",
          "iopub.status.busy": "2021-09-15T18:12:17.986661Z",
          "iopub.status.idle": "2021-09-15T18:12:18.236115Z",
          "shell.execute_reply": "2021-09-15T18:12:18.235380Z",
          "shell.execute_reply.started": "2021-09-15T18:12:17.986893Z"
        },
        "id": "Xeb42-1bcf5D",
        "outputId": "26a930f3-a04d-4726-ff37-da96b9abf53d"
      },
      "outputs": [
        {
          "output_type": "display_data",
          "data": {
            "text/plain": [
              "<Figure size 1440x576 with 1 Axes>"
            ],
            "image/png": "[encoded data removed]"
          },
          "metadata": {
            "needs_background": "light"
          }
        }
      ],
      "source": [
        "plt.subplots(figsize=(20,8))\n",
        "plt.title(\"Word Length Variation\")\n",
        "plt.plot(Neutral_len[:250],c='b',label='Neutral')\n",
        "plt.plot(neg_len[:250],c='r',label='Negative')\n",
        "plt.plot(pos_len[:250],c='g',label='Positive')\n",
        "plt.legend(loc='upper left')\n",
        "plt.show()"
      ]
    },
    {
      "cell_type": "code",
      "execution_count": 14,
      "metadata": {
        "execution": {
          "iopub.execute_input": "2021-09-15T18:12:21.844791Z",
          "iopub.status.busy": "2021-09-15T18:12:21.844122Z",
          "iopub.status.idle": "2021-09-15T18:12:21.849550Z",
          "shell.execute_reply": "2021-09-15T18:12:21.848885Z",
          "shell.execute_reply.started": "2021-09-15T18:12:21.844754Z"
        },
        "id": "YIE1Nt1ncf5F"
      },
      "outputs": [],
      "source": [
        "pos_mean=sum(pos_len)//len(pos_len)\n",
        "neg_mean=sum(neg_len)//len(neg_len)\n",
        "neutral_mean=sum(Neutral_len)//len(Neutral_len)\n",
        "combined_mean=(sum(pos_len)+sum(neg_len)+sum(Neutral_len))//(len(pos_len)+len(neg_len)+len(Neutral_len))"
      ]
    },
    {
      "cell_type": "code",
      "execution_count": 15,
      "metadata": {
        "colab": {
          "base_uri": "https://localhost:8080/",
          "height": 281
        },
        "execution": {
          "iopub.execute_input": "2021-09-15T18:12:24.037891Z",
          "iopub.status.busy": "2021-09-15T18:12:24.037366Z",
          "iopub.status.idle": "2021-09-15T18:12:24.210238Z",
          "shell.execute_reply": "2021-09-15T18:12:24.209375Z",
          "shell.execute_reply.started": "2021-09-15T18:12:24.037854Z"
        },
        "id": "hzEFGmWWcf5H",
        "outputId": "8e3452b6-a5ae-40e8-fc52-e9234995af4b"
      },
      "outputs": [
        {
          "output_type": "display_data",
          "data": {
            "text/plain": [
              "<Figure size 432x288 with 1 Axes>"
            ],
            "image/png": "[encoded data removed]"
          },
          "metadata": {
            "needs_background": "light"
          }
        }
      ],
      "source": [
        "plt.title(\"Average Word Length\")\n",
        "sns.barplot(x=['Negative','Neutral','Positive','Combined'],y=[neg_mean,neutral_mean,pos_mean,combined_mean])\n",
        "plt.show()"
      ]
    },
    {
      "cell_type": "markdown",
      "metadata": {
        "id": "miMtR27xcf5J"
      },
      "source": [
        "# Tokeinzer\n"
      ]
    },
    {
      "cell_type": "code",
      "execution_count": 16,
      "metadata": {
        "colab": {
          "base_uri": "https://localhost:8080/"
        },
        "execution": {
          "iopub.execute_input": "2021-09-15T18:24:24.820035Z",
          "iopub.status.busy": "2021-09-15T18:24:24.819742Z",
          "iopub.status.idle": "2021-09-15T18:24:24.829362Z",
          "shell.execute_reply": "2021-09-15T18:24:24.828644Z",
          "shell.execute_reply.started": "2021-09-15T18:24:24.820005Z"
        },
        "id": "c-W5136vcf5K",
        "outputId": "ffa5bc0e-ccbc-4220-9472-f1dff7de69a9"
      },
      "outputs": [
        {
          "output_type": "execute_result",
          "data": {
            "text/plain": [
              "0     family mormon have never tried explain them t...\n",
              "1    buddhism has very much lot compatible with chr...\n",
              "2    seriously don say thing first all they won get...\n",
              "3    what you have learned yours and only yours wha...\n",
              "4    for your own benefit you may want read living ...\n",
              "Name: clean_comment, dtype: object"
            ]
          },
          "metadata": {},
          "execution_count": 16
        }
      ],
      "source": [
        "X=df['clean_comment'].astype('str')\n",
        "X[:5]"
      ]
    },
    {
      "cell_type": "code",
      "execution_count": 17,
      "metadata": {
        "colab": {
          "base_uri": "https://localhost:8080/"
        },
        "execution": {
          "iopub.execute_input": "2021-09-15T18:24:27.332314Z",
          "iopub.status.busy": "2021-09-15T18:24:27.331729Z",
          "iopub.status.idle": "2021-09-15T18:24:27.364540Z",
          "shell.execute_reply": "2021-09-15T18:24:27.363685Z",
          "shell.execute_reply.started": "2021-09-15T18:24:27.332275Z"
        },
        "id": "Y1bcxiDCcf5M",
        "outputId": "5b0540ea-e7f2-48d6-8583-986ba9084108"
      },
      "outputs": [
        {
          "output_type": "stream",
          "name": "stdout",
          "text": [
            " family mormon have never tried explain them they still stare puzzled from time time like some kind \n"
          ]
        }
      ],
      "source": [
        "lp=\"\"\n",
        "for i in X:\n",
        "    lp+=i+\" \"\n",
        "print(lp[:100])"
      ]
    },
    {
      "cell_type": "code",
      "execution_count": 18,
      "metadata": {
        "execution": {
          "iopub.execute_input": "2021-09-15T18:24:28.568644Z",
          "iopub.status.busy": "2021-09-15T18:24:28.568095Z",
          "iopub.status.idle": "2021-09-15T18:24:28.750359Z",
          "shell.execute_reply": "2021-09-15T18:24:28.749611Z",
          "shell.execute_reply.started": "2021-09-15T18:24:28.568607Z"
        },
        "id": "7R_GxaE1cf5N"
      },
      "outputs": [],
      "source": [
        "st=lp.split(' ')\n",
        "dict_len=len(set(st))"
      ]
    },
    {
      "cell_type": "code",
      "execution_count": 19,
      "metadata": {
        "colab": {
          "base_uri": "https://localhost:8080/"
        },
        "execution": {
          "iopub.execute_input": "2021-09-15T18:24:30.063867Z",
          "iopub.status.busy": "2021-09-15T18:24:30.063591Z",
          "iopub.status.idle": "2021-09-15T18:24:30.071614Z",
          "shell.execute_reply": "2021-09-15T18:24:30.070634Z",
          "shell.execute_reply.started": "2021-09-15T18:24:30.063836Z"
        },
        "id": "YkSLy5smcf5O",
        "outputId": "8323856e-4652-4277-8d91-cd4c73812a97"
      },
      "outputs": [
        {
          "output_type": "execute_result",
          "data": {
            "text/plain": [
              "(55543, 1134781)"
            ]
          },
          "metadata": {},
          "execution_count": 19
        }
      ],
      "source": [
        "dict_len,len(st)"
      ]
    },
    {
      "cell_type": "code",
      "execution_count": 20,
      "metadata": {
        "execution": {
          "iopub.execute_input": "2021-09-15T18:24:31.414739Z",
          "iopub.status.busy": "2021-09-15T18:24:31.414484Z",
          "iopub.status.idle": "2021-09-15T18:24:32.814246Z",
          "shell.execute_reply": "2021-09-15T18:24:32.813502Z",
          "shell.execute_reply.started": "2021-09-15T18:24:31.414710Z"
        },
        "id": "DvzGIFv9cf5P"
      },
      "outputs": [],
      "source": [
        "tokenizer=Tokenizer(num_words=dict_len,lower=True,oov_token=\"OOV\")\n",
        "tokenizer.fit_on_texts(X)"
      ]
    },
    {
      "cell_type": "code",
      "execution_count": 21,
      "metadata": {
        "colab": {
          "base_uri": "https://localhost:8080/"
        },
        "execution": {
          "iopub.execute_input": "2021-09-15T18:24:33.865709Z",
          "iopub.status.busy": "2021-09-15T18:24:33.865453Z",
          "iopub.status.idle": "2021-09-15T18:24:33.871123Z",
          "shell.execute_reply": "2021-09-15T18:24:33.870435Z",
          "shell.execute_reply.started": "2021-09-15T18:24:33.865681Z"
        },
        "id": "U0j5T800cf5Q",
        "outputId": "8404dc8e-0116-4048-a9e3-b042443b1a7b"
      },
      "outputs": [
        {
          "output_type": "execute_result",
          "data": {
            "text/plain": [
              "54720"
            ]
          },
          "metadata": {},
          "execution_count": 21
        }
      ],
      "source": [
        "len(tokenizer.word_index)\n"
      ]
    },
    {
      "cell_type": "code",
      "execution_count": 22,
      "metadata": {
        "execution": {
          "iopub.execute_input": "2021-09-15T18:24:35.857117Z",
          "iopub.status.busy": "2021-09-15T18:24:35.856430Z",
          "iopub.status.idle": "2021-09-15T18:24:37.078373Z",
          "shell.execute_reply": "2021-09-15T18:24:37.077610Z",
          "shell.execute_reply.started": "2021-09-15T18:24:35.857079Z"
        },
        "id": "wqU7bjDPcf5R"
      },
      "outputs": [],
      "source": [
        "X_train=tokenizer.texts_to_sequences(X)\n",
        "X_train_padded=pad_sequences(X_train,maxlen=175,padding='post',truncating='post')"
      ]
    },
    {
      "cell_type": "markdown",
      "metadata": {
        "id": "KIzX8b9Gcf5U"
      },
      "source": [
        "# One Hot Encode The Sentiment Values"
      ]
    },
    {
      "cell_type": "code",
      "execution_count": 23,
      "metadata": {
        "execution": {
          "iopub.execute_input": "2021-09-15T18:24:44.146117Z",
          "iopub.status.busy": "2021-09-15T18:24:44.145645Z",
          "iopub.status.idle": "2021-09-15T18:24:44.151402Z",
          "shell.execute_reply": "2021-09-15T18:24:44.150634Z",
          "shell.execute_reply.started": "2021-09-15T18:24:44.146081Z"
        },
        "id": "CDVFZYN4cf5U"
      },
      "outputs": [],
      "source": [
        "df['category']=df['category'].replace({-1:2})"
      ]
    },
    {
      "cell_type": "code",
      "execution_count": 24,
      "metadata": {
        "execution": {
          "iopub.execute_input": "2021-09-15T18:24:45.592392Z",
          "iopub.status.busy": "2021-09-15T18:24:45.591838Z",
          "iopub.status.idle": "2021-09-15T18:24:45.595974Z",
          "shell.execute_reply": "2021-09-15T18:24:45.595283Z",
          "shell.execute_reply.started": "2021-09-15T18:24:45.592355Z"
        },
        "id": "Oo1R2Mvbcf5V"
      },
      "outputs": [],
      "source": [
        "mp={0:\"Neutral\",1:\"Positve\",2:\"Negative\"}"
      ]
    },
    {
      "cell_type": "code",
      "execution_count": 25,
      "metadata": {
        "execution": {
          "iopub.execute_input": "2021-09-15T18:24:47.455855Z",
          "iopub.status.busy": "2021-09-15T18:24:47.455296Z",
          "iopub.status.idle": "2021-09-15T18:24:47.459584Z",
          "shell.execute_reply": "2021-09-15T18:24:47.458945Z",
          "shell.execute_reply.started": "2021-09-15T18:24:47.455817Z"
        },
        "id": "fIEp_qF4cf5X"
      },
      "outputs": [],
      "source": [
        "Y=df['category'].values"
      ]
    },
    {
      "cell_type": "code",
      "execution_count": 26,
      "metadata": {
        "execution": {
          "iopub.execute_input": "2021-09-15T18:24:49.222300Z",
          "iopub.status.busy": "2021-09-15T18:24:49.221761Z",
          "iopub.status.idle": "2021-09-15T18:24:49.226726Z",
          "shell.execute_reply": "2021-09-15T18:24:49.225900Z",
          "shell.execute_reply.started": "2021-09-15T18:24:49.222262Z"
        },
        "id": "2g3CjRIccf5X"
      },
      "outputs": [],
      "source": [
        "Y_hot=to_categorical(Y)"
      ]
    },
    {
      "cell_type": "code",
      "execution_count": 27,
      "metadata": {
        "colab": {
          "base_uri": "https://localhost:8080/"
        },
        "execution": {
          "iopub.execute_input": "2021-09-15T18:24:50.592000Z",
          "iopub.status.busy": "2021-09-15T18:24:50.591450Z",
          "iopub.status.idle": "2021-09-15T18:24:50.597212Z",
          "shell.execute_reply": "2021-09-15T18:24:50.596326Z",
          "shell.execute_reply.started": "2021-09-15T18:24:50.591961Z"
        },
        "id": "9aS1M_JIcf5X",
        "outputId": "394c118d-694f-4302-d5cc-8cc95b6fc6a3"
      },
      "outputs": [
        {
          "output_type": "stream",
          "name": "stdout",
          "text": [
            "[[0. 1. 0.]\n",
            " [0. 1. 0.]\n",
            " [0. 0. 1.]]\n"
          ]
        }
      ],
      "source": [
        "print(Y_hot[:3])"
      ]
    },
    {
      "cell_type": "markdown",
      "metadata": {
        "id": "3V4Wcztpcf5Y"
      },
      "source": [
        "# The Model"
      ]
    },
    {
      "cell_type": "code",
      "execution_count": 28,
      "metadata": {
        "colab": {
          "base_uri": "https://localhost:8080/"
        },
        "execution": {
          "iopub.execute_input": "2021-09-15T18:26:21.651448Z",
          "iopub.status.busy": "2021-09-15T18:26:21.651193Z",
          "iopub.status.idle": "2021-09-15T18:26:23.730864Z",
          "shell.execute_reply": "2021-09-15T18:26:23.730207Z",
          "shell.execute_reply.started": "2021-09-15T18:26:21.651419Z"
        },
        "id": "nDR0FLU8cf5a",
        "outputId": "9a5ad439-7fc0-4fae-fafc-2b0522eeb8f4"
      },
      "outputs": [
        {
          "output_type": "stream",
          "name": "stdout",
          "text": [
            "Model: \"sequential\"\n",
            "_________________________________________________________________\n",
            " Layer (type)                Output Shape              Param #   \n",
            "=================================================================\n",
            " embedding (Embedding)       (None, 175, 64)           3554752   \n",
            "                                                                 \n",
            " dropout (Dropout)           (None, 175, 64)           0         \n",
            "                                                                 \n",
            " bidirectional (Bidirectiona  (None, 175, 350)         336000    \n",
            " l)                                                              \n",
            "                                                                 \n",
            " dropout_1 (Dropout)         (None, 175, 350)          0         \n",
            "                                                                 \n",
            " bidirectional_1 (Bidirectio  (None, 175, 700)         1962800   \n",
            " nal)                                                            \n",
            "                                                                 \n",
            " dropout_2 (Dropout)         (None, 175, 700)          0         \n",
            "                                                                 \n",
            " bidirectional_2 (Bidirectio  (None, 1400)             7845600   \n",
            " nal)                                                            \n",
            "                                                                 \n",
            " dense (Dense)               (None, 3)                 4203      \n",
            "                                                                 \n",
            "=================================================================\n",
            "Total params: 13,703,355\n",
            "Trainable params: 13,703,355\n",
            "Non-trainable params: 0\n",
            "_________________________________________________________________\n",
            "None\n"
          ]
        }
      ],
      "source": [
        "model=Sequential()\n",
        "model.add(Embedding(dict_len,64,input_length=175))\n",
        "model.add(Dropout(0.3))\n",
        "model.add(Bidirectional(LSTM(175,return_sequences=True)))\n",
        "model.add(Dropout(0.3))\n",
        "model.add(Bidirectional(LSTM(350,return_sequences=True)))\n",
        "model.add(Dropout(0.3))\n",
        "model.add(Bidirectional(LSTM(700)))\n",
        "model.add(Dense(3,activation='softmax'))\n",
        "print(model.summary())"
      ]
    },
    {
      "cell_type": "code",
      "execution_count": 29,
      "metadata": {
        "execution": {
          "iopub.execute_input": "2021-09-15T18:26:26.351188Z",
          "iopub.status.busy": "2021-09-15T18:26:26.350514Z",
          "iopub.status.idle": "2021-09-15T18:26:26.364000Z",
          "shell.execute_reply": "2021-09-15T18:26:26.363160Z",
          "shell.execute_reply.started": "2021-09-15T18:26:26.351151Z"
        },
        "id": "ZtBF-UWacf5c"
      },
      "outputs": [],
      "source": [
        "model.compile(optimizer='adam',metrics=['accuracy'],loss='categorical_crossentropy')\n"
      ]
    },
    {
      "cell_type": "markdown",
      "source": [],
      "metadata": {
        "id": "DUH9t1ilSfEr"
      }
    },
    {
      "cell_type": "code",
      "execution_count": 30,
      "metadata": {
        "colab": {
          "base_uri": "https://localhost:8080/"
        },
        "execution": {
          "iopub.execute_input": "2021-09-15T18:26:27.634482Z",
          "iopub.status.busy": "2021-09-15T18:26:27.634214Z",
          "iopub.status.idle": "2021-09-15T18:42:03.552485Z",
          "shell.execute_reply": "2021-09-15T18:42:03.551782Z",
          "shell.execute_reply.started": "2021-09-15T18:26:27.634453Z"
        },
        "id": "1nAtOCdGcf5d",
        "outputId": "f0f1a702-4174-4e6b-b9ce-48536bb59228"
      },
      "outputs": [
        {
          "output_type": "stream",
          "name": "stdout",
          "text": [
            "Epoch 1/5\n",
            "932/932 [==============================] - 204s 197ms/step - loss: 0.5994 - accuracy: 0.7508 - val_loss: 0.3293 - val_accuracy: 0.8862\n",
            "Epoch 2/5\n",
            "932/932 [==============================] - 186s 200ms/step - loss: 0.2609 - accuracy: 0.9072 - val_loss: 0.2440 - val_accuracy: 0.9217\n",
            "Epoch 3/5\n",
            "932/932 [==============================] - 188s 202ms/step - loss: 0.1586 - accuracy: 0.9473 - val_loss: 0.2495 - val_accuracy: 0.9199\n",
            "Epoch 4/5\n",
            "932/932 [==============================] - 189s 202ms/step - loss: 0.1065 - accuracy: 0.9673 - val_loss: 0.2729 - val_accuracy: 0.9166\n",
            "Epoch 5/5\n",
            "932/932 [==============================] - 189s 202ms/step - loss: 0.0779 - accuracy: 0.9770 - val_loss: 0.2766 - val_accuracy: 0.9232\n"
          ]
        }
      ],
      "source": [
        "hist=model.fit(X_train_padded,Y_hot,epochs=5,validation_split=0.2)"
      ]
    },
    {
      "cell_type": "code",
      "execution_count": 31,
      "metadata": {
        "execution": {
          "iopub.execute_input": "2021-09-15T18:44:57.462006Z",
          "iopub.status.busy": "2021-09-15T18:44:57.461664Z",
          "iopub.status.idle": "2021-09-15T18:44:57.661637Z",
          "shell.execute_reply": "2021-09-15T18:44:57.660900Z",
          "shell.execute_reply.started": "2021-09-15T18:44:57.461967Z"
        },
        "id": "e7u03ZNIcf5e",
        "colab": {
          "base_uri": "https://localhost:8080/",
          "height": 265
        },
        "outputId": "45845ad9-a276-467c-d577-4e773dbbec58"
      },
      "outputs": [
        {
          "output_type": "display_data",
          "data": {
            "text/plain": [
              "<Figure size 432x288 with 1 Axes>"
            ],
            "image/png": "[encoded data removed]"
          },
          "metadata": {
            "needs_background": "light"
          }
        }
      ],
      "source": [
        "plt.plot(hist.history['accuracy'],c='b',label='Training')\n",
        "plt.plot(hist.history['val_accuracy'],c='r',label='Validation')\n",
        "plt.legend(loc='lower right')\n",
        "plt.show()"
      ]
    },
    {
      "cell_type": "code",
      "execution_count": 32,
      "metadata": {
        "execution": {
          "iopub.execute_input": "2021-09-15T18:45:23.908509Z",
          "iopub.status.busy": "2021-09-15T18:45:23.907875Z",
          "iopub.status.idle": "2021-09-15T18:45:24.107401Z",
          "shell.execute_reply": "2021-09-15T18:45:24.106743Z",
          "shell.execute_reply.started": "2021-09-15T18:45:23.908474Z"
        },
        "id": "UKA2YPX6cf5f",
        "colab": {
          "base_uri": "https://localhost:8080/",
          "height": 265
        },
        "outputId": "8d51de05-ef85-4a8d-e47b-a42a661cf78b"
      },
      "outputs": [
        {
          "output_type": "display_data",
          "data": {
            "text/plain": [
              "<Figure size 432x288 with 1 Axes>"
            ],
            "image/png": "[encoded data removed]"
          },
          "metadata": {
            "needs_background": "light"
          }
        }
      ],
      "source": [
        "plt.plot(hist.history['loss'],c='b',label='Training')\n",
        "plt.plot(hist.history['val_loss'],c='r',label='Validation')\n",
        "plt.legend(loc='upper right')\n",
        "plt.show()"
      ]
    },
    {
      "cell_type": "markdown",
      "metadata": {
        "id": "RzrnPIKacf5g"
      },
      "source": [
        "# Check For Your Own Data"
      ]
    },
    {
      "cell_type": "code",
      "execution_count": 96,
      "metadata": {
        "execution": {
          "iopub.execute_input": "2021-09-15T19:01:21.803359Z",
          "iopub.status.busy": "2021-09-15T19:01:21.802589Z",
          "iopub.status.idle": "2021-09-15T19:01:21.809150Z",
          "shell.execute_reply": "2021-09-15T19:01:21.808045Z",
          "shell.execute_reply.started": "2021-09-15T19:01:21.803315Z"
        },
        "id": "4WoZyh2Hcf5g"
      },
      "outputs": [],
      "source": [
        "def predict(s):\n",
        "    X_tes=[]\n",
        "    X_tes.append(s)\n",
        "    X_test=tokenizer.texts_to_sequences(X_tes)\n",
        "    X_test_padded=pad_sequences(X_test,maxlen=175,padding='post',truncating='post')\n",
        "    sent=(model.predict(X_test_padded) > 0.5).astype(\"int32\")\n",
        "    for x in range(3):\n",
        "      if(sent[0][x]==1):\n",
        "        res=x\n",
        "    print(\"The Predicted Sentiment is \",mp[res])"
      ]
    },
    {
      "cell_type": "code",
      "execution_count": 97,
      "metadata": {
        "execution": {
          "iopub.execute_input": "2021-09-15T19:01:23.831007Z",
          "iopub.status.busy": "2021-09-15T19:01:23.830737Z",
          "iopub.status.idle": "2021-09-15T19:01:23.897583Z",
          "shell.execute_reply": "2021-09-15T19:01:23.896524Z",
          "shell.execute_reply.started": "2021-09-15T19:01:23.830978Z"
        },
        "id": "wjnqA9xacf5h",
        "colab": {
          "base_uri": "https://localhost:8080/"
        },
        "outputId": "2ae8b5b8-d835-48fb-f238-2f51843755e6"
      },
      "outputs": [
        {
          "output_type": "stream",
          "name": "stdout",
          "text": [
            "1/1 [==============================] - 0s 49ms/step\n",
            "The Predicted Sentiment is  Positve\n"
          ]
        }
      ],
      "source": [
        "pol=\"The article is good but its not great moreover i would say you have done a decent job\"\n",
        "predict(pol)"
      ]
    },
    {
      "cell_type": "code",
      "execution_count": 98,
      "metadata": {
        "execution": {
          "iopub.execute_input": "2021-09-15T19:01:25.951920Z",
          "iopub.status.busy": "2021-09-15T19:01:25.951008Z",
          "iopub.status.idle": "2021-09-15T19:01:26.022655Z",
          "shell.execute_reply": "2021-09-15T19:01:26.021315Z",
          "shell.execute_reply.started": "2021-09-15T19:01:25.951833Z"
        },
        "id": "b7e5yZrncf5i",
        "colab": {
          "base_uri": "https://localhost:8080/"
        },
        "outputId": "0d965953-da4c-47ff-e10f-74680364c928"
      },
      "outputs": [
        {
          "output_type": "stream",
          "name": "stdout",
          "text": [
            "1/1 [==============================] - 0s 52ms/step\n",
            "The Predicted Sentiment is  Negative\n"
          ]
        }
      ],
      "source": [
        "lop=\"You have done a stupid mistake which made you lose all the progress you made\"\n",
        "predict(lop)"
      ]
    },
    {
      "cell_type": "code",
      "execution_count": 100,
      "metadata": {
        "execution": {
          "iopub.execute_input": "2021-09-15T19:02:10.718747Z",
          "iopub.status.busy": "2021-09-15T19:02:10.718184Z",
          "iopub.status.idle": "2021-09-15T19:02:10.784534Z",
          "shell.execute_reply": "2021-09-15T19:02:10.783811Z",
          "shell.execute_reply.started": "2021-09-15T19:02:10.718708Z"
        },
        "id": "wqJV7YaRcf5j",
        "colab": {
          "base_uri": "https://localhost:8080/"
        },
        "outputId": "39d00a9d-237c-4280-e431-6375fd6dc5d2"
      },
      "outputs": [
        {
          "output_type": "stream",
          "name": "stdout",
          "text": [
            "1/1 [==============================] - 0s 59ms/step\n",
            "The Predicted Sentiment is  Negative\n"
          ]
        }
      ],
      "source": [
        "com=\"It is very bad\"\n",
        "predict(com)"
      ]
    },
    {
      "cell_type": "code",
      "execution_count": 101,
      "metadata": {
        "execution": {
          "iopub.execute_input": "2021-09-15T19:02:44.055310Z",
          "iopub.status.busy": "2021-09-15T19:02:44.054684Z",
          "iopub.status.idle": "2021-09-15T19:02:44.121844Z",
          "shell.execute_reply": "2021-09-15T19:02:44.120579Z",
          "shell.execute_reply.started": "2021-09-15T19:02:44.055275Z"
        },
        "id": "wrZLP-60cf5k",
        "colab": {
          "base_uri": "https://localhost:8080/"
        },
        "outputId": "8409de0a-6de2-47ce-9d74-9a103bd860fa"
      },
      "outputs": [
        {
          "output_type": "stream",
          "name": "stdout",
          "text": [
            "1/1 [==============================] - 0s 50ms/step\n",
            "The Predicted Sentiment is  Neutral\n"
          ]
        }
      ],
      "source": [
        "ppp=\"Lets Find out what this is going to be classified as\"\n",
        "predict(ppp)"
      ]
    }
  ],
  "metadata": {
    "colab": {
      "provenance": [],
      "include_colab_link": true
    },
    "kernelspec": {
      "display_name": "Python 3 (ipykernel)",
      "language": "python",
      "name": "python3"
    },
    "language_info": {
      "codemirror_mode": {
        "name": "ipython",
        "version": 3
      },
      "file_extension": ".py",
      "mimetype": "text/x-python",
      "name": "python",
      "nbconvert_exporter": "python",
      "pygments_lexer": "ipython3",
      "version": "3.9.12"
    },
    "accelerator": "GPU",
    "gpuClass": "standard"
  },
  "nbformat": 4,
  "nbformat_minor": 0
}